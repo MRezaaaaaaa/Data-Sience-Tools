{
 "cells": [
  {
   "cell_type": "markdown",
   "id": "b34c6371-7010-41d1-95cc-0af34a1142bd",
   "metadata": {},
   "source": [
    "# Tools for Data Science"
   ]
  },
  {
   "cell_type": "markdown",
   "id": "b4eb4b36-d4cf-4e6d-aaf8-d6bdab233fde",
   "metadata": {},
   "source": [
    "## Introduction\n",
    "#### This notebook covers various exercises related to data science, including the listing of languages, libraries, tools, and examples of arithmetic expressions.\n"
   ]
  },
  {
   "cell_type": "markdown",
   "id": "febf9633-db7d-4f44-b8ac-2239f8d96746",
   "metadata": {},
   "source": [
    "## Data Science Languages\n",
    "- Python\n",
    "- R\n",
    "- SQL\n",
    "- Julia\n",
    "- Scala\n"
   ]
  },
  {
   "cell_type": "markdown",
   "id": "413ead52-bb5a-4df5-9a19-8877888695c0",
   "metadata": {},
   "source": [
    "## Data Science Libraries\n",
    "- Pandas\n",
    "- NumPy\n",
    "- Matplotlib\n",
    "- Scikit-learn\n",
    "- TensorFlow\n",
    "- Keras\n"
   ]
  },
  {
   "cell_type": "markdown",
   "id": "fd089deb-c4ee-4884-84a2-a3febbc9dc9e",
   "metadata": {},
   "source": [
    "## Data Science Tools\n",
    "| Tool          | Description                         |\n",
    "|---------------|-------------------------------------|\n",
    "| Jupyter       | Interactive notebooks               |\n",
    "| RStudio       | Integrated development environment  |\n",
    "| Apache Spark  | Cluster-computing framework         |\n",
    "| TensorFlow    | Machine learning framework          |\n",
    "| RapidMiner    | Data science platform               |\n"
   ]
  },
  {
   "cell_type": "markdown",
   "id": "0d7a2b76-ce58-4e19-8f17-b0208132cf58",
   "metadata": {},
   "source": [
    "## Arithmetic Expression Examples\n",
    "Below are examples of arithmetic operations such as multiplication and addition.\n"
   ]
  },
  {
   "cell_type": "markdown",
   "id": "620caf0d-883d-4862-8f3c-e83a7e26b531",
   "metadata": {},
   "source": [
    "#### Multiply and add numbers"
   ]
  },
  {
   "cell_type": "code",
   "execution_count": 30,
   "id": "ce20884c-9c22-4d49-bd4a-2a3811119ea3",
   "metadata": {},
   "outputs": [
    {
     "data": {
      "text/plain": [
       "17"
      ]
     },
     "execution_count": 30,
     "metadata": {},
     "output_type": "execute_result"
    }
   ],
   "source": [
    "result = (3 * 4) + 5\n",
    "result"
   ]
  },
  {
   "cell_type": "markdown",
   "id": "47fb3287-3238-4a28-a2b8-7f35085d8646",
   "metadata": {},
   "source": [
    "#### Convert minutes to hours"
   ]
  },
  {
   "cell_type": "code",
   "execution_count": 32,
   "id": "1a9f9485-9157-4a72-bea8-2b62ae10ce8e",
   "metadata": {},
   "outputs": [
    {
     "data": {
      "text/plain": [
       "2.0"
      ]
     },
     "execution_count": 32,
     "metadata": {},
     "output_type": "execute_result"
    }
   ],
   "source": [
    "minutes = 120\n",
    "hours = minutes / 60\n",
    "hours"
   ]
  },
  {
   "cell_type": "markdown",
   "id": "61bf83df-96cf-4934-9a02-fdfede158a6a",
   "metadata": {},
   "source": [
    "## Author\n",
    "SeyedMohamadreza Heidari Haft Asia\n"
   ]
  }
 ],
 "metadata": {
  "kernelspec": {
   "display_name": "Python 3 (ipykernel)",
   "language": "python",
   "name": "python3"
  },
  "language_info": {
   "codemirror_mode": {
    "name": "ipython",
    "version": 3
   },
   "file_extension": ".py",
   "mimetype": "text/x-python",
   "name": "python",
   "nbconvert_exporter": "python",
   "pygments_lexer": "ipython3",
   "version": "3.12.4"
  }
 },
 "nbformat": 4,
 "nbformat_minor": 5
}
